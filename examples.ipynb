{
 "cells": [
  {
   "cell_type": "code",
   "execution_count": 1,
   "id": "41d031a2-2e8f-4484-8bde-8ab3061a58f3",
   "metadata": {},
   "outputs": [
    {
     "name": "stdout",
     "output_type": "stream",
     "text": [
      "Solver status: The solution converged.\n",
      "\n",
      "Final solution:\n",
      "x1 = 0.5000\n",
      "x2 = 0.5000\n",
      "lambda0 = 0.0000\n",
      "lambda1 = -0.0000\n",
      "mu0 = -1.0000\n"
     ]
    }
   ],
   "source": [
    "from sympy import symbols\n",
    "from core import ConvexProblem\n",
    "\n",
    "x1, x2 = symbols('x1 x2')\n",
    "f = x1**2 + x2**2\n",
    "g = [x1 - 0.1, x2 - 0.1]\n",
    "h = [x1 + x2 - 1]\n",
    "\n",
    "problem = ConvexProblem(f, [x1, x2], g_list=g, h_list=h)\n",
    "\n",
    "## Then solve it using your preferred method:\n",
    "\n",
    "from solver import KKTSolver\n",
    "solver = KKTSolver(problem)\n",
    "\n",
    "solution = solver.solve(method=\"root\", verbose=True)\n",
    "\n",
    "if solution is None:\n",
    "    print(\"No solution found.\")\n",
    "\n",
    "else:\n",
    "    print(\"\\nFinal solution:\")\n",
    "    for k, v in solution.items():\n",
    "        print(f\"{k} = {v:.4f}\")\n"
   ]
  },
  {
   "cell_type": "code",
   "execution_count": 3,
   "id": "e53a3eae",
   "metadata": {},
   "outputs": [
    {
     "name": "stdout",
     "output_type": "stream",
     "text": [
      "\n",
      "--- Iteration 0 ---\n",
      "Active Set: []\n",
      "Converged with active set.\n",
      "\n",
      "Final solution:\n",
      "x1 = 0.5000\n",
      "x2 = 0.5000\n",
      "lambda0 = 0.0000\n",
      "lambda1 = 0.0000\n",
      "mu0 = -1.0000\n"
     ]
    }
   ],
   "source": [
    "x1, x2 = symbols('x1 x2')\n",
    "f = x1**2 + x2**2\n",
    "g = [x1 - 0.1, x2 - 0.1]\n",
    "h = [x1 + x2 - 1]\n",
    "\n",
    "problem = ConvexProblem(f, [x1, x2], g_list=g, h_list=h)\n",
    "\n",
    "## Then solve it using your preferred method:\n",
    "\n",
    "from solver import KKTSolver\n",
    "solver = KKTSolver(problem)\n",
    "\n",
    "solution = solver.solve(method=\"active_set\", verbose=True)\n",
    "\n",
    "if solution is None:\n",
    "    print(\"No solution found.\")\n",
    "\n",
    "else:\n",
    "    print(\"\\nFinal solution:\")\n",
    "    for k, v in solution.items():\n",
    "        print(f\"{k} = {v:.4f}\")\n"
   ]
  },
  {
   "cell_type": "code",
   "execution_count": 4,
   "id": "e9ce8a41",
   "metadata": {},
   "outputs": [
    {
     "name": "stdout",
     "output_type": "stream",
     "text": [
      "Running Phase I to find feasible start...\n",
      "Unable to find strictly feasible start, infeasible problem or bad initialization.\n",
      "No solution found.\n"
     ]
    }
   ],
   "source": [
    "x1, x2 = symbols('x1 x2')\n",
    "f = x1**2 + x2**2\n",
    "g = [x1 - 0.1, x2 - 0.1]\n",
    "h = [x1 + x2 - 1]\n",
    "\n",
    "problem = ConvexProblem(f, [x1, x2], g_list=g, h_list=h)\n",
    "\n",
    "## Then solve it using your preferred method:\n",
    "\n",
    "from solver import KKTSolver\n",
    "solver = KKTSolver(problem)\n",
    "\n",
    "solution = solver.solve(method=\"interior_point\", verbose=True)\n",
    "\n",
    "if solution is None:\n",
    "    print(\"No solution found.\")\n",
    "\n",
    "else:\n",
    "    print(\"\\nFinal solution:\")\n",
    "    for k, v in solution.items():\n",
    "        print(f\"{k} = {v:.4f}\")"
   ]
  },
  {
   "cell_type": "code",
   "execution_count": 5,
   "id": "e03df9b2",
   "metadata": {},
   "outputs": [
    {
     "name": "stdout",
     "output_type": "stream",
     "text": [
      "Barrier iter 0: obj = 2.603661, mu = 1.00e+00\n",
      "Barrier iter 1: obj = 0.711419, mu = 1.00e-01\n",
      "Barrier iter 2: obj = 0.521194, mu = 1.00e-02\n",
      "Barrier iter 3: obj = 0.502120, mu = 1.00e-03\n",
      "Barrier iter 4: obj = 0.500212, mu = 1.00e-04\n",
      "Barrier iter 5: obj = 0.500021, mu = 1.00e-05\n",
      "Barrier iter 6: obj = 0.500002, mu = 1.00e-06\n",
      "Barrier iter 7: obj = 0.500000, mu = 1.00e-07\n",
      "Barrier iter 8: obj = 0.500000, mu = 1.00e-08\n",
      "Barrier iter 9: obj = 0.500000, mu = 1.00e-09\n",
      "\n",
      "Final solution:\n",
      "x1 = 0.5002\n",
      "x2 = 0.4998\n"
     ]
    }
   ],
   "source": [
    "x1, x2 = symbols('x1 x2')\n",
    "f = x1**2 + x2**2\n",
    "g = [0.2 - x1, 0.1 - x2]\n",
    "h = [x1 + x2 - 1]\n",
    "\n",
    "problem = ConvexProblem(f, [x1, x2], g_list=g, h_list=h)\n",
    "\n",
    "## Then solve it using your preferred method:\n",
    "\n",
    "from solver import KKTSolver\n",
    "solver = KKTSolver(problem)\n",
    "\n",
    "solution = solver.solve(method=\"interior_point\", verbose=True)\n",
    "\n",
    "if solution is None:\n",
    "    print(\"No solution found.\")\n",
    "\n",
    "else:\n",
    "    print(\"\\nFinal solution:\")\n",
    "    for k, v in solution.items():\n",
    "        print(f\"{k} = {v:.4f}\")"
   ]
  },
  {
   "cell_type": "code",
   "execution_count": 8,
   "id": "37d2d47b",
   "metadata": {},
   "outputs": [
    {
     "name": "stdout",
     "output_type": "stream",
     "text": [
      "\n",
      "--- Iteration 0 ---\n",
      "Active Set: []\n",
      "Activating constraint(s): [1]\n",
      "\n",
      "--- Iteration 1 ---\n",
      "Active Set: [1]\n",
      "Converged with active set.\n",
      "\n",
      "Final solution:\n",
      "x1 = 1.0000\n",
      "x2 = 0.5000\n",
      "x3 = 1.5000\n",
      "x4 = 0.5000\n",
      "x5 = 0.5000\n",
      "lambda0 = -0.0000\n",
      "lambda1 = -0.0000\n",
      "lambda2 = -0.0000\n",
      "lambda3 = -0.0000\n",
      "lambda4 = 0.0000\n",
      "lambda5 = 0.0000\n",
      "mu0 = -2.0000\n",
      "mu1 = -1.0000\n",
      "mu2 = 1.0000\n"
     ]
    }
   ],
   "source": [
    "import sympy as sp\n",
    "# Variables\n",
    "x = sp.symbols('x1 x2 x3 x4 x5')\n",
    "vars = list(x)\n",
    "\n",
    "# Objective\n",
    "f = sum(v**2 for v in vars)\n",
    "\n",
    "# Inequality constraints g(x) ≤ 0\n",
    "g = [\n",
    "    x[0] + x[1] - 2,\n",
    "    x[2] - x[3] - 1,\n",
    "    x[4] - 1,\n",
    "    -x[0],\n",
    "    -x[4],\n",
    "    x[3] + x[4],\n",
    "]\n",
    "\n",
    "# Equality constraints h(x) = 0\n",
    "h = [\n",
    "    x[0] + x[1] + x[2] - 3,\n",
    "    x[2] + x[3] - 2,\n",
    "    x[1] - x[4],\n",
    "    #x[1] + x[4]\n",
    "]\n",
    "problem = ConvexProblem(f, vars, g_list=g, h_list=h)\n",
    "solver = KKTSolver(problem)\n",
    "\n",
    "solution = solver.solve(method = \"active_set\", verbose=True)\n",
    "\n",
    "if solution is None:\n",
    "    print(\"No solution found.\")\n",
    "\n",
    "else:\n",
    "    print(\"\\nFinal solution:\")\n",
    "    for k, v in solution.items():\n",
    "        print(f\"{k} = {v:.4f}\")"
   ]
  },
  {
   "cell_type": "code",
   "execution_count": 9,
   "id": "7d51d5c7",
   "metadata": {},
   "outputs": [
    {
     "name": "stdout",
     "output_type": "stream",
     "text": [
      "Solver status: The solution converged.\n",
      "\n",
      "Final solution:\n",
      "x1 = 1.0000\n",
      "x2 = 1.0000\n",
      "x3 = 1.0000\n",
      "x4 = 1.0000\n",
      "x5 = 1.0000\n",
      "lambda0 = -2.0000\n",
      "lambda1 = -0.0000\n",
      "lambda2 = -2.0000\n",
      "lambda3 = 0.0000\n",
      "lambda4 = 0.0000\n",
      "lambda5 = -0.0000\n",
      "mu0 = 0.0000\n",
      "mu1 = -2.0000\n",
      "mu2 = -0.0000\n"
     ]
    }
   ],
   "source": [
    "import sympy as sp\n",
    "# Variables\n",
    "x = sp.symbols('x1 x2 x3 x4 x5')\n",
    "vars = list(x)\n",
    "\n",
    "# Objective\n",
    "f = sum(v**2 for v in vars)\n",
    "\n",
    "# Inequality constraints g(x) ≤ 0\n",
    "g = [\n",
    "    x[0] + x[1] - 2,\n",
    "    x[2] - x[3] - 1,\n",
    "    x[4] - 1,\n",
    "    -x[0],\n",
    "    -x[4],\n",
    "    x[3] + x[4],\n",
    "]\n",
    "\n",
    "# Equality constraints h(x) = 0\n",
    "h = [\n",
    "    x[0] + x[1] + x[2] - 3,\n",
    "    x[2] + x[3] - 2,\n",
    "    x[1] - x[4],\n",
    "    #x[1] + x[4]\n",
    "]\n",
    "problem = ConvexProblem(f, vars, g_list=g, h_list=h)\n",
    "solver = KKTSolver(problem)\n",
    "\n",
    "solution = solver.solve(method = \"root\", verbose=True)\n",
    "\n",
    "if solution is None:\n",
    "    print(\"No solution found.\")\n",
    "\n",
    "else:\n",
    "    print(\"\\nFinal solution:\")\n",
    "    for k, v in solution.items():\n",
    "        print(f\"{k} = {v:.4f}\")"
   ]
  },
  {
   "cell_type": "code",
   "execution_count": 10,
   "id": "2dd328be",
   "metadata": {},
   "outputs": [
    {
     "name": "stdout",
     "output_type": "stream",
     "text": [
      "Running Phase I to find feasible start...\n",
      "Phase I found feasible x0 = [0.99998451 0.99998451 0.99998967]\n",
      "Barrier iter 0: obj = 45.997299, mu = 1.00e+00\n",
      "Barrier iter 1: obj = 6.400089, mu = 1.00e-01\n",
      "Barrier iter 2: obj = 2.440112, mu = 1.00e-02\n",
      "Barrier iter 3: obj = 2.044112, mu = 1.00e-03\n",
      "Barrier iter 4: failed - Iteration limit reached\n",
      "No solution found.\n"
     ]
    }
   ],
   "source": [
    "x, y, z = sp.symbols('x y z')\n",
    "vars = [x, y, z]\n",
    "\n",
    "# Objective (degree 4)\n",
    "f = x**4 + y**4 + z**4 - 2*x**2*y + x*y*z\n",
    "\n",
    "# Inequalities g_i(x) ≤ 0\n",
    "g = [\n",
    "    x**3 + y**3 + z**3 - 3,       # cubic surface\n",
    "    x*y*z - 1,                   # volume constraint\n",
    "    x**2 + y**2 - 2              # circle of radius sqrt(2)\n",
    "]\n",
    "\n",
    "# Equalities h_j(x) = 0\n",
    "h = [\n",
    "    x**2 + y**2 + z**2 - 3       # sphere of radius sqrt(3)\n",
    "]\n",
    "problem = ConvexProblem(f, vars, g_list=g, h_list=h)\n",
    "solver = KKTSolver(problem)\n",
    "solution = solver.solve(method = \"interior_point\",verbose=True)\n",
    "\n",
    "if solution is None:\n",
    "    print(\"No solution found.\")\n",
    "\n",
    "else:\n",
    "    print(\"\\nFinal solution:\")\n",
    "    for k, v in solution.items():\n",
    "        print(f\"{k} = {v:.4f}\")"
   ]
  },
  {
   "cell_type": "code",
   "execution_count": 12,
   "id": "38524dad",
   "metadata": {},
   "outputs": [
    {
     "name": "stdout",
     "output_type": "stream",
     "text": [
      "Solver status: The solution converged.\n",
      "\n",
      "Final solution:\n",
      "x = 1.0840\n",
      "y = 0.9082\n",
      "z = 1.0000\n",
      "lambda0 = 0.0000\n",
      "lambda1 = 0.0000\n",
      "lambda2 = 1.5396\n",
      "mu0 = -2.4923\n"
     ]
    }
   ],
   "source": [
    "x, y, z = sp.symbols('x y z')\n",
    "vars = [x, y, z]\n",
    "\n",
    "# Objective (degree 4)\n",
    "f = x**4 + y**4 + z**4 - 2*x**2*y + x*y*z\n",
    "\n",
    "# Inequalities g_i(x) ≤ 0\n",
    "g = [\n",
    "    x**3 + y**3 + z**3 - 3,       # cubic surface\n",
    "    x*y*z - 1,                   # volume constraint\n",
    "    x**2 + y**2 - 2              # circle of radius sqrt(2)\n",
    "]\n",
    "\n",
    "# Equalities h_j(x) = 0\n",
    "h = [\n",
    "    x**2 + y**2 + z**2 - 3       # sphere of radius sqrt(3)\n",
    "]\n",
    "problem = ConvexProblem(f, vars, g_list=g, h_list=h)\n",
    "solver = KKTSolver(problem)\n",
    "solution = solver.solve(method = \"root\",verbose=True)\n",
    "\n",
    "if solution is None:\n",
    "    print(\"No solution found.\")\n",
    "\n",
    "else:\n",
    "    print(\"\\nFinal solution:\")\n",
    "    for k, v in solution.items():\n",
    "        print(f\"{k} = {v:.4f}\")"
   ]
  },
  {
   "cell_type": "code",
   "execution_count": null,
   "id": "ea398b76",
   "metadata": {},
   "outputs": [],
   "source": []
  }
 ],
 "metadata": {
  "kernelspec": {
   "display_name": "Python 3 (ipykernel)",
   "language": "python",
   "name": "python3"
  },
  "language_info": {
   "codemirror_mode": {
    "name": "ipython",
    "version": 3
   },
   "file_extension": ".py",
   "mimetype": "text/x-python",
   "name": "python",
   "nbconvert_exporter": "python",
   "pygments_lexer": "ipython3",
   "version": "3.12.3"
  }
 },
 "nbformat": 4,
 "nbformat_minor": 5
}
